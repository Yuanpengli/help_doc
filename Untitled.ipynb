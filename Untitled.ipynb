{
 "cells": [
  {
   "cell_type": "markdown",
   "metadata": {},
   "source": [
    "# 变分自编码器详细解释.\n",
    "\n",
    "## 自编码器原理(autoencoder)\n",
    "![自编码器结构图解](auto_encoder.png)\n",
    "\n",
    "由上图, 我们可以对自编码器有一个较为清晰的了解. 可以将这样的结构的前半部分(从matrix到vector)看做一个函数$f$, 记做编码过程; 网络结构的后半部分(从vector到matrix)看做函数$f$的逆运算$f^{-1}$, 记做解码过程.\n",
    "    \n",
    "当我们拥有一个样本集, 使用一个样本图片利用自编码器的网络结构生成一个新的样本图片, 然后利用原图片与新产生的图片对应像素点的误差平常和(或者是误差和)来定义loss function. 接下来, 我们不停的去minimize loss function, 使得生成出来的图片和原图片尽量误差足够小时. 这个时候, 我们可以认为函数$f$与$f^{-1}$在一定程度上互为逆运算(不完全的对偶运算子, 因为误差不为0), 而互为逆运算的原因仅仅取决于网络结构中的参数和训练样本集.\n",
    "\n",
    "最终一个基于训练集训练好的自编码器, 可以将网络结构前半部分看做图片的信息压缩变换. 网络结构的后一部分看做由压缩过后的信息变成我们想要的新样本. 也可以用训练好的模型中, 样本通过前半部分信息压缩变化产生的vector作为样本的信息去拟合样本的label值.\n",
    "\n",
    "## 变分自编码器(varianece autoencoder)\n",
    "![变分自编码器](vae.png)\n",
    "\n",
    "比较前面两张图, 可以知道变分自编码器是自编码器的一个改版, 改的最主要的部分是编码所产生的vector的分布不同. 在自编码器网络结构中, vector的分布是由训练集的样本决定的, 而在变分自编码器中vector服从一个高斯分布. 而这样的一个区别导致了两方面的不同. 第一不同部分是网络结构中的信息压缩的向量等于向量均值和高斯采样向量的加和.$Z_{hidden} = Z_{mean} + Z_{variance}$. 第二个不同部分是最后的loss function, 当我们定义loss function时需要在重构图片的精确度和单位高斯分布的拟合度上进行权衡. 重构图片的误差和自编码器的loss function是一样的, 而单位高斯分布的拟合度我们用KL散度来度量两个分布的差异.\n",
    "$$KL(p/q) = \\int p(x) \\frac{p(x)}{q(x)} dx$$\n",
    "\n",
    "我的理解是变分自编码器训练出一个函数映射, 这个函数映射是从样本空间到$R^n$中的一个映射, $vector \\in R^n$, 并且vector是一个高斯分布的一个点. 当我们以原图片为初始图片, 生成其他相似图片的时候, 可以看做是将$Z_{mean}$为以一个样本点为中心, 以$Z_{variance}$为方差随机在向量空间取点.\n",
    "\n",
    "## grammar 自编码器 生成分子结构\n",
    "\n",
    "对于网络结构的部分,我们将不做详细描述.重点在于数据处理, 数据理解上面.\n",
    "我们将数据理解分为两个部分, 编码部分和反编码部分. 编码的简单意思是将一个smiles字符串解析成为一个树状结构图, 然后对于图做一个深度优先的遍历, 这样形成了一个序列. 具体细节如下. 举一个栗子: 苯的smiles字符串的表达形式为'c1ccccc1', 基于smiles的语法规则, 树状结构图如下:\n",
    "![ben](ben_tree.png)\n",
    "\n",
    "\n",
    "\n",
    "\n",
    "\n",
    "\n"
   ]
  },
  {
   "cell_type": "code",
   "execution_count": null,
   "metadata": {
    "collapsed": true
   },
   "outputs": [],
   "source": []
  }
 ],
 "metadata": {
  "anaconda-cloud": {},
  "kernelspec": {
   "display_name": "Python [conda root]",
   "language": "python",
   "name": "conda-root-py"
  },
  "language_info": {
   "codemirror_mode": {
    "name": "ipython",
    "version": 2
   },
   "file_extension": ".py",
   "mimetype": "text/x-python",
   "name": "python",
   "nbconvert_exporter": "python",
   "pygments_lexer": "ipython2",
   "version": "2.7.14"
  }
 },
 "nbformat": 4,
 "nbformat_minor": 1
}
